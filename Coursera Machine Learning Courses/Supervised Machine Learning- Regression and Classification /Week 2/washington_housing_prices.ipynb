{
 "cells": [
  {
   "cell_type": "markdown",
   "metadata": {},
   "source": [
    "## Multivariate Linear Regression"
   ]
  },
  {
   "cell_type": "code",
   "execution_count": 226,
   "metadata": {},
   "outputs": [],
   "source": [
    "# Imports\n",
    "import numpy as np\n",
    "import pandas as pd\n",
    "\n",
    "from multivariate_linear_regression import *"
   ]
  },
  {
   "cell_type": "markdown",
   "metadata": {},
   "source": [
    "### Preprocessing"
   ]
  },
  {
   "cell_type": "code",
   "execution_count": 227,
   "metadata": {},
   "outputs": [],
   "source": [
    "def normalize(data):\n",
    "    num_columns = data[0, ...].size\n",
    "    num_rows = data[..., 0].size\n",
    "    column_ranges = np.array([])\n",
    "    column_minimums = np.array([])\n",
    "\n",
    "    for i in range(num_columns - 1):\n",
    "        column_range = np.ptp(data[:, i])\n",
    "        column_minimum = np.min(data[:, i])\n",
    "        data[:, i] = (data[:, i] - column_minimum) / column_range\n",
    "\n",
    "        column_ranges = np.append(column_ranges, [column_range])\n",
    "        column_minimums = np.append(column_minimums, [column_minimum])\n",
    "    \n",
    "    return (data, column_minimums, column_ranges)"
   ]
  },
  {
   "cell_type": "markdown",
   "metadata": {},
   "source": [
    "##### Importing from washington_housing.csv"
   ]
  },
  {
   "cell_type": "code",
   "execution_count": 228,
   "metadata": {},
   "outputs": [
    {
     "name": "stdout",
     "output_type": "stream",
     "text": [
      "Number of Total Columns (Input Columns + 1 Output Price Column): \n",
      "12\n",
      "\n",
      "\n",
      "Number of Total Rows (Training + Test) (Number of Data Points): \n",
      "4600\n",
      "\n",
      "\n",
      "Training Data: \n",
      "[[3.33333333e-01 1.87500000e-01 7.36522399e-02 ... 0.00000000e+00\n",
      "  4.82456140e-01 3.13000000e+05]\n",
      " [5.55555556e-01 3.12500000e-01 2.49050873e-01 ... 5.80912863e-02\n",
      "  1.84210526e-01 2.38400000e+06]\n",
      " [3.33333333e-01 2.50000000e-01 1.18451025e-01 ... 0.00000000e+00\n",
      "  5.78947368e-01 3.42000000e+05]\n",
      " ...\n",
      " [4.44444444e-01 3.43750000e-01 1.41989370e-01 ... 0.00000000e+00\n",
      "  6.66666667e-01 5.80379000e+05]\n",
      " [4.44444444e-01 3.12500000e-01 2.35383447e-01 ... 0.00000000e+00\n",
      "  8.33333333e-01 8.75000000e+05]\n",
      " [3.33333333e-01 3.12500000e-01 2.27790433e-01 ... 3.52697095e-02\n",
      "  4.47368421e-01 5.15000000e+05]]\n",
      "\n",
      "\n",
      "Test Data: \n",
      "[[4.44444444e-01 3.12500000e-01 1.83750949e-01 ... 0.00000000e+00\n",
      "  7.80701754e-01 5.99000000e+05]\n",
      " [3.33333333e-01 3.12500000e-01 1.13895216e-01 ... 0.00000000e+00\n",
      "  9.21052632e-01 2.85000000e+05]\n",
      " [3.33333333e-01 2.18750000e-01 8.73196659e-02 ... 0.00000000e+00\n",
      "  5.96491228e-01 2.90000000e+05]\n",
      " ...\n",
      " [3.33333333e-01 3.12500000e-01 2.00455581e-01 ... 0.00000000e+00\n",
      "  9.56140351e-01 4.16904167e+05]\n",
      " [4.44444444e-01 2.50000000e-01 1.30599848e-01 ... 2.11618257e-01\n",
      "  6.49122807e-01 2.03400000e+05]\n",
      " [3.33333333e-01 3.12500000e-01 8.50417616e-02 ... 0.00000000e+00\n",
      "  7.89473684e-01 2.20600000e+05]]\n",
      "\n",
      "\n"
     ]
    }
   ],
   "source": [
    "# Importing Data and Removing Irrelevant Columns\n",
    "data = np.loadtxt(\"washington_housing_prices.csv\", delimiter=\",\", dtype=str, skiprows = 1)\n",
    "data = np.delete(data, [0, 13, 14, 15, 16, 17], axis = 1)\n",
    "\n",
    "# data = np.loadtxt(\"dumb_test_data.csv\", delimiter=\",\", dtype=str, skiprows = 1)\n",
    "\n",
    "data = data.astype(float)\n",
    "\n",
    "# Moving Output Column to the End\n",
    "data = np.roll(data, -1, axis = 1)\n",
    "\n",
    "# Saving the Number of Columns and Rows of the Data\n",
    "num_columns = data[0, ...].size\n",
    "num_rows = data[..., 0].size\n",
    "\n",
    "# Normalizing Data (Using Feature Scaling)\n",
    "# We both normalize the data as well \n",
    "\n",
    "(data, column_minimums, column_ranges) = normalize(data)\n",
    "\n",
    "# Creating Training Set and Test Set\n",
    "training_data = data[0:int(num_rows/2), :]\n",
    "test_data = data[int(num_rows/2):data.size, :]\n",
    "\n",
    "# Output for Understanding\n",
    "print(\"Number of Total Columns (Input Columns + 1 Output Price Column): \")\n",
    "print(num_columns)\n",
    "print(\"\\n\")\n",
    "\n",
    "print(\"Number of Total Rows (Training + Test) (Number of Data Points): \")\n",
    "print(num_rows)\n",
    "print(\"\\n\")\n",
    "\n",
    "print(\"Training Data: \")\n",
    "print(training_data)\n",
    "print(\"\\n\")\n",
    "\n",
    "print(\"Test Data: \")\n",
    "print(test_data)\n",
    "print(\"\\n\")"
   ]
  },
  {
   "cell_type": "markdown",
   "metadata": {},
   "source": [
    "## Multivariable Linear Regression Custom Implementation (from multivariable_linear_regression.py)"
   ]
  },
  {
   "cell_type": "code",
   "execution_count": 229,
   "metadata": {},
   "outputs": [
    {
     "name": "stdout",
     "output_type": "stream",
     "text": [
      "Number of w parameters: \n",
      "11\n"
     ]
    }
   ],
   "source": [
    "# Parameters w (w_1 ... w_n) and b\n",
    "start_w = np.zeros(num_columns - 1)\n",
    "start_b = 0\n",
    "\n",
    "print(\"Number of w parameters: \")\n",
    "print(start_w.size)"
   ]
  },
  {
   "cell_type": "code",
   "execution_count": 230,
   "metadata": {},
   "outputs": [
    {
     "name": "stdout",
     "output_type": "stream",
     "text": [
      "w parameter values: \n",
      "[  53821.4950103   575384.38954434  915781.46945482  -55007.78237913\n",
      "  200552.25273254  540496.5007889   298257.30721431  116592.27214923\n",
      " 1091485.84201655  455147.29064116 -307216.70610827]\n",
      "\n",
      "\n",
      "b parameter value: \n",
      "110243.26609460816\n"
     ]
    }
   ],
   "source": [
    "(w, b) = gradient_descent(training_data, start_w, start_b, 0.01, 20000)\n",
    "\n",
    "print(\"w parameter values: \")\n",
    "print(w)\n",
    "print(\"\\n\")\n",
    "\n",
    "print(\"b parameter value: \")\n",
    "print(b)"
   ]
  },
  {
   "cell_type": "markdown",
   "metadata": {},
   "source": [
    "### Error on Test Data"
   ]
  },
  {
   "cell_type": "code",
   "execution_count": 231,
   "metadata": {},
   "outputs": [
    {
     "name": "stdout",
     "output_type": "stream",
     "text": [
      "Cost with Test Data: 669466.0706092934\n"
     ]
    }
   ],
   "source": [
    "# Error on Test Data Calculated with Custom Implementation of root_mean_squared_error\n",
    "# Should match the error found by the sklearn.metrics mean_squared_error function below.\n",
    "\n",
    "error_test_data = root_mean_squared_error(test_data, w, b)\n",
    "print(\"Cost with Test Data: \" + str(error_test_data))"
   ]
  },
  {
   "cell_type": "code",
   "execution_count": 232,
   "metadata": {},
   "outputs": [
    {
     "data": {
      "text/plain": [
       "669466.0706092936"
      ]
     },
     "execution_count": 232,
     "metadata": {},
     "output_type": "execute_result"
    }
   ],
   "source": [
    "# Error on Test Data Calculated with sklearn.metrics mean_squared_error function\n",
    "# Should match the error found by the custom implementation of root_mean_squared_error above.\n",
    "\n",
    "# Imports\n",
    "from sklearn.metrics import mean_squared_error\n",
    "\n",
    "# Getting List of House Price Predictions Using test_data Parameters and the Computed \n",
    "# Linear Regression Model\n",
    "test_data_estimated_prices = np.array([])\n",
    "\n",
    "for sample in test_data:\n",
    "    test_data_estimated_prices = np.append(test_data_estimated_prices, np.dot(sample[0:-1], w) + b)\n",
    "\n",
    "# Running the Root Mean Squared Error Function from sklearn on the actual house prices \n",
    "# from the test_data and the predicted house prices.\n",
    "linear_rmse = mean_squared_error(test_data[:, -1], test_data_estimated_prices, squared = False)\n",
    "\n",
    "linear_rmse"
   ]
  },
  {
   "cell_type": "markdown",
   "metadata": {},
   "source": [
    "## Multivariable Linear Regression Library Implementation (from sklearn)"
   ]
  },
  {
   "cell_type": "code",
   "execution_count": 233,
   "metadata": {},
   "outputs": [
    {
     "data": {
      "text/html": [
       "<style>#sk-container-id-20 {color: black;background-color: white;}#sk-container-id-20 pre{padding: 0;}#sk-container-id-20 div.sk-toggleable {background-color: white;}#sk-container-id-20 label.sk-toggleable__label {cursor: pointer;display: block;width: 100%;margin-bottom: 0;padding: 0.3em;box-sizing: border-box;text-align: center;}#sk-container-id-20 label.sk-toggleable__label-arrow:before {content: \"▸\";float: left;margin-right: 0.25em;color: #696969;}#sk-container-id-20 label.sk-toggleable__label-arrow:hover:before {color: black;}#sk-container-id-20 div.sk-estimator:hover label.sk-toggleable__label-arrow:before {color: black;}#sk-container-id-20 div.sk-toggleable__content {max-height: 0;max-width: 0;overflow: hidden;text-align: left;background-color: #f0f8ff;}#sk-container-id-20 div.sk-toggleable__content pre {margin: 0.2em;color: black;border-radius: 0.25em;background-color: #f0f8ff;}#sk-container-id-20 input.sk-toggleable__control:checked~div.sk-toggleable__content {max-height: 200px;max-width: 100%;overflow: auto;}#sk-container-id-20 input.sk-toggleable__control:checked~label.sk-toggleable__label-arrow:before {content: \"▾\";}#sk-container-id-20 div.sk-estimator input.sk-toggleable__control:checked~label.sk-toggleable__label {background-color: #d4ebff;}#sk-container-id-20 div.sk-label input.sk-toggleable__control:checked~label.sk-toggleable__label {background-color: #d4ebff;}#sk-container-id-20 input.sk-hidden--visually {border: 0;clip: rect(1px 1px 1px 1px);clip: rect(1px, 1px, 1px, 1px);height: 1px;margin: -1px;overflow: hidden;padding: 0;position: absolute;width: 1px;}#sk-container-id-20 div.sk-estimator {font-family: monospace;background-color: #f0f8ff;border: 1px dotted black;border-radius: 0.25em;box-sizing: border-box;margin-bottom: 0.5em;}#sk-container-id-20 div.sk-estimator:hover {background-color: #d4ebff;}#sk-container-id-20 div.sk-parallel-item::after {content: \"\";width: 100%;border-bottom: 1px solid gray;flex-grow: 1;}#sk-container-id-20 div.sk-label:hover label.sk-toggleable__label {background-color: #d4ebff;}#sk-container-id-20 div.sk-serial::before {content: \"\";position: absolute;border-left: 1px solid gray;box-sizing: border-box;top: 0;bottom: 0;left: 50%;z-index: 0;}#sk-container-id-20 div.sk-serial {display: flex;flex-direction: column;align-items: center;background-color: white;padding-right: 0.2em;padding-left: 0.2em;position: relative;}#sk-container-id-20 div.sk-item {position: relative;z-index: 1;}#sk-container-id-20 div.sk-parallel {display: flex;align-items: stretch;justify-content: center;background-color: white;position: relative;}#sk-container-id-20 div.sk-item::before, #sk-container-id-20 div.sk-parallel-item::before {content: \"\";position: absolute;border-left: 1px solid gray;box-sizing: border-box;top: 0;bottom: 0;left: 50%;z-index: -1;}#sk-container-id-20 div.sk-parallel-item {display: flex;flex-direction: column;z-index: 1;position: relative;background-color: white;}#sk-container-id-20 div.sk-parallel-item:first-child::after {align-self: flex-end;width: 50%;}#sk-container-id-20 div.sk-parallel-item:last-child::after {align-self: flex-start;width: 50%;}#sk-container-id-20 div.sk-parallel-item:only-child::after {width: 0;}#sk-container-id-20 div.sk-dashed-wrapped {border: 1px dashed gray;margin: 0 0.4em 0.5em 0.4em;box-sizing: border-box;padding-bottom: 0.4em;background-color: white;}#sk-container-id-20 div.sk-label label {font-family: monospace;font-weight: bold;display: inline-block;line-height: 1.2em;}#sk-container-id-20 div.sk-label-container {text-align: center;}#sk-container-id-20 div.sk-container {/* jupyter's `normalize.less` sets `[hidden] { display: none; }` but bootstrap.min.css set `[hidden] { display: none !important; }` so we also need the `!important` here to be able to override the default hidden behavior on the sphinx rendered scikit-learn.org. See: https://github.com/scikit-learn/scikit-learn/issues/21755 */display: inline-block !important;position: relative;}#sk-container-id-20 div.sk-text-repr-fallback {display: none;}</style><div id=\"sk-container-id-20\" class=\"sk-top-container\"><div class=\"sk-text-repr-fallback\"><pre>SGDRegressor(alpha=0.01, learning_rate=&#x27;constant&#x27;, max_iter=10000,\n",
       "             random_state=42)</pre><b>In a Jupyter environment, please rerun this cell to show the HTML representation or trust the notebook. <br />On GitHub, the HTML representation is unable to render, please try loading this page with nbviewer.org.</b></div><div class=\"sk-container\" hidden><div class=\"sk-item\"><div class=\"sk-estimator sk-toggleable\"><input class=\"sk-toggleable__control sk-hidden--visually\" id=\"sk-estimator-id-20\" type=\"checkbox\" checked><label for=\"sk-estimator-id-20\" class=\"sk-toggleable__label sk-toggleable__label-arrow\">SGDRegressor</label><div class=\"sk-toggleable__content\"><pre>SGDRegressor(alpha=0.01, learning_rate=&#x27;constant&#x27;, max_iter=10000,\n",
       "             random_state=42)</pre></div></div></div></div></div>"
      ],
      "text/plain": [
       "SGDRegressor(alpha=0.01, learning_rate='constant', max_iter=10000,\n",
       "             random_state=42)"
      ]
     },
     "execution_count": 233,
     "metadata": {},
     "output_type": "execute_result"
    }
   ],
   "source": [
    "from sklearn.linear_model import LinearRegression\n",
    "from sklearn.linear_model import SGDRegressor\n",
    "\n",
    "# sklearn Linear Regression model 1: Uses LinearRegression() model\n",
    "# This model doesn't use gradient descent but instead uses an analytical method \n",
    "# to directly solve for the line of best fit. \n",
    "\n",
    "# linear_regression = LinearRegression()\n",
    "# linear_regression.fit(training_data[:, 0:-1], training_data[:, -1])\n",
    "\n",
    "# sklearn Linear Regression model 2: uses SGDRegressor() model\n",
    "# This model uses stochastic gradient descent, and thus is directly comparable \n",
    "# to the custom implementation of multivariable linear regression included \n",
    "# within this file.\n",
    "\n",
    "linear_regression = SGDRegressor(\n",
    "    max_iter=10000, alpha=0.01, random_state=42, learning_rate = \"constant\")\n",
    "linear_regression.fit(training_data[:, 0:-1], training_data[:, -1])"
   ]
  },
  {
   "cell_type": "code",
   "execution_count": 234,
   "metadata": {},
   "outputs": [
    {
     "name": "stdout",
     "output_type": "stream",
     "text": [
      "w parameter values: \n",
      "[ 150250.43368841  414061.7996346   572683.28365013  -13840.36113934\n",
      "  214178.79215507  299364.56343526  331264.56497588  101731.62738987\n",
      "  665480.92715409  316657.93863054 -191149.62583149]\n",
      "\n",
      "\n",
      "b parameter value: \n",
      "[178782.81149502]\n",
      "\n",
      "\n"
     ]
    }
   ],
   "source": [
    "w = linear_regression.coef_\n",
    "b = linear_regression.intercept_\n",
    "\n",
    "print(\"w parameter values: \")\n",
    "print(w)\n",
    "print(\"\\n\")\n",
    "\n",
    "print(\"b parameter value: \")\n",
    "print(b)\n",
    "print(\"\\n\")"
   ]
  },
  {
   "cell_type": "markdown",
   "metadata": {},
   "source": [
    "### Error on Test Data"
   ]
  },
  {
   "cell_type": "code",
   "execution_count": 235,
   "metadata": {},
   "outputs": [
    {
     "name": "stdout",
     "output_type": "stream",
     "text": [
      "Cost with Test Data: [671277.54185893]\n"
     ]
    }
   ],
   "source": [
    "# Error on Test Data Calculated with Custom Implementation of root_mean_squared_error\n",
    "# Should match the error found by the sklearn.metrics mean_squared_error function below.\n",
    "\n",
    "error_test_data = root_mean_squared_error(test_data, w, b)\n",
    "print(\"Cost with Test Data: \" + str(error_test_data))"
   ]
  },
  {
   "cell_type": "code",
   "execution_count": 236,
   "metadata": {},
   "outputs": [
    {
     "data": {
      "text/plain": [
       "671277.5418589298"
      ]
     },
     "execution_count": 236,
     "metadata": {},
     "output_type": "execute_result"
    }
   ],
   "source": [
    "from sklearn.metrics import mean_squared_error\n",
    "\n",
    "test_data_estimated_prices = linear_regression.predict(test_data[:, 0:-1])\n",
    "\n",
    "linear_rmse = mean_squared_error(test_data[:, -1], test_data_estimated_prices, squared = False)\n",
    "\n",
    "linear_rmse"
   ]
  },
  {
   "cell_type": "markdown",
   "metadata": {},
   "source": [
    "## Miscellaneous"
   ]
  },
  {
   "cell_type": "code",
   "execution_count": 237,
   "metadata": {},
   "outputs": [],
   "source": [
    "# sample_data = [44, 15]\n",
    "# print(sample_data)\n",
    "\n",
    "# sample_data_normalized = (sample_data - column_minimums) / column_ranges\n",
    "# print(sample_data_normalized)\n",
    "\n",
    "# print(estimate(sample_data_normalized, w, b))"
   ]
  },
  {
   "cell_type": "code",
   "execution_count": null,
   "metadata": {},
   "outputs": [],
   "source": []
  },
  {
   "cell_type": "code",
   "execution_count": 238,
   "metadata": {},
   "outputs": [
    {
     "data": {
      "text/plain": [
       "array([ 354769.04042907, 1319206.15307688,  516987.65524318,\n",
       "        508277.07754848,  424246.68672525])"
      ]
     },
     "execution_count": 238,
     "metadata": {},
     "output_type": "execute_result"
    }
   ],
   "source": [
    "housing_predictions[0:5]"
   ]
  },
  {
   "cell_type": "code",
   "execution_count": 239,
   "metadata": {},
   "outputs": [
    {
     "data": {
      "text/plain": [
       "array([ 313000., 2384000.,  342000.,  420000.,  550000.])"
      ]
     },
     "execution_count": 239,
     "metadata": {},
     "output_type": "execute_result"
    }
   ],
   "source": [
    "training_data[0:5, -1]"
   ]
  }
 ],
 "metadata": {
  "kernelspec": {
   "display_name": "Python 3",
   "language": "python",
   "name": "python3"
  },
  "language_info": {
   "codemirror_mode": {
    "name": "ipython",
    "version": 3
   },
   "file_extension": ".py",
   "mimetype": "text/x-python",
   "name": "python",
   "nbconvert_exporter": "python",
   "pygments_lexer": "ipython3",
   "version": "3.10.6"
  }
 },
 "nbformat": 4,
 "nbformat_minor": 2
}
