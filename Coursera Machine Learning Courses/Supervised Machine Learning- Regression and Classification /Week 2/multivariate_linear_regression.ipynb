{
 "cells": [
  {
   "cell_type": "markdown",
   "metadata": {},
   "source": [
    "## Multivariate Linear Regression"
   ]
  },
  {
   "cell_type": "code",
   "execution_count": 122,
   "metadata": {},
   "outputs": [],
   "source": [
    "# Imports\n",
    "import numpy as np\n",
    "import pandas as pd"
   ]
  },
  {
   "cell_type": "code",
   "execution_count": 123,
   "metadata": {},
   "outputs": [],
   "source": [
    "def normalize(data):\n",
    "    num_columns = data[0, ...].size\n",
    "    num_rows = data[..., 0].size\n",
    "    column_ranges = np.array([])\n",
    "    column_minimums = np.array([])\n",
    "\n",
    "    for i in range(num_columns - 1):\n",
    "        column_range = np.ptp(data[:, i])\n",
    "        column_minimum = np.min(data[:, i])\n",
    "        data[:, i] = (data[:, i] - column_minimum) / column_range\n",
    "\n",
    "        column_ranges = np.append(column_ranges, [column_range])\n",
    "        column_minimums = np.append(column_minimums, [column_minimum])\n",
    "    \n",
    "    return (data, column_minimums, column_ranges)"
   ]
  },
  {
   "cell_type": "markdown",
   "metadata": {},
   "source": [
    "##### Importing from california_housing.csv"
   ]
  },
  {
   "cell_type": "code",
   "execution_count": 124,
   "metadata": {},
   "outputs": [
    {
     "name": "stdout",
     "output_type": "stream",
     "text": [
      "[0.00e+00 0.00e+00 3.70e+02 6.38e+02 1.00e+00 0.00e+00 0.00e+00 1.00e+00\n",
      " 3.70e+02 0.00e+00 1.90e+03]\n",
      "[9.00000e+00 8.00000e+00 1.31700e+04 1.07358e+06 2.50000e+00 1.00000e+00\n",
      " 4.00000e+00 4.00000e+00 9.04000e+03 4.82000e+03 1.14000e+02]\n",
      "Number of Total Columns (Input Columns + 1 Output Price Column): \n",
      "12\n",
      "\n",
      "\n",
      "Data: \n",
      "[[3.33333333e-01 1.87500000e-01 7.36522399e-02 ... 0.00000000e+00\n",
      "  4.82456140e-01 3.13000000e+05]\n",
      " [5.55555556e-01 3.12500000e-01 2.49050873e-01 ... 5.80912863e-02\n",
      "  1.84210526e-01 2.38400000e+06]\n",
      " [3.33333333e-01 2.50000000e-01 1.18451025e-01 ... 0.00000000e+00\n",
      "  5.78947368e-01 3.42000000e+05]\n",
      " ...\n",
      " [4.44444444e-01 3.43750000e-01 1.41989370e-01 ... 0.00000000e+00\n",
      "  6.66666667e-01 5.80379000e+05]\n",
      " [4.44444444e-01 3.12500000e-01 2.35383447e-01 ... 0.00000000e+00\n",
      "  8.33333333e-01 8.75000000e+05]\n",
      " [3.33333333e-01 3.12500000e-01 2.27790433e-01 ... 3.52697095e-02\n",
      "  4.47368421e-01 5.15000000e+05]]\n"
     ]
    }
   ],
   "source": [
    "data = np.loadtxt(\"washington_housing_prices.csv\", delimiter=\",\", dtype=str, skiprows = 1)\n",
    "data = np.delete(data, [0, 13, 14, 15, 16, 17], axis = 1)\n",
    "\n",
    "data = data.astype(float)\n",
    "\n",
    "# Moving Output Column to the End\n",
    "data = np.roll(data, -1, axis = 1)\n",
    "\n",
    "# Normalizing Data (Using Feature Scaling)\n",
    "num_columns = data[0, ...].size\n",
    "num_rows = data[..., 0].size\n",
    "(data, column_minimums, column_ranges) = normalize(data)\n",
    "\n",
    "print(column_minimums)\n",
    "print(column_ranges)\n",
    "\n",
    "# Creating Training Set and Test Set\n",
    "training_data = data[0:int(num_rows/2), :]\n",
    "test_data = data[int(num_rows/2):data.size, :]\n",
    "\n",
    "print(\"Number of Total Columns (Input Columns + 1 Output Price Column): \")\n",
    "print(training_data[0, ...].size)\n",
    "print(\"\\n\")\n",
    "\n",
    "print(\"Data: \")\n",
    "print(training_data)"
   ]
  },
  {
   "cell_type": "code",
   "execution_count": 125,
   "metadata": {},
   "outputs": [
    {
     "name": "stdout",
     "output_type": "stream",
     "text": [
      "Number of w parameters: \n",
      "11\n"
     ]
    }
   ],
   "source": [
    "# Parameters w (w_1 ... w_n) and b\n",
    "start_w = np.zeros(training_data[0].size - 1)\n",
    "start_b = 0\n",
    "\n",
    "print(\"Number of w parameters: \")\n",
    "print(start_w.size)"
   ]
  },
  {
   "cell_type": "code",
   "execution_count": 126,
   "metadata": {},
   "outputs": [],
   "source": [
    "def estimate(input, w, b):\n",
    "    return np.dot(w, input) + b\n",
    "\n",
    "def cost_function(data, w, b):\n",
    "    sum = 0\n",
    "    \n",
    "    for line in data:\n",
    "        y_hat = estimate(line[0:-1], w, b)\n",
    "        error = y_hat - line[-1]\n",
    "        squared_error = error * error\n",
    "\n",
    "        sum = sum + squared_error\n",
    "    \n",
    "    cost = sum * (1 / (2 * data[..., 0].size))\n",
    "    return cost\n",
    "\n",
    "def gradient_descent(data, w, b, alpha, numIterations):\n",
    "    num_terms = data[..., 0].size\n",
    "\n",
    "    for i in range(0, numIterations):\n",
    "        \n",
    "        est = 0\n",
    "        derivative_terms_w = 0\n",
    "        derivative_term_b = 0\n",
    "\n",
    "        for line in data:\n",
    "            est = estimate(line[0:-1], w, b)\n",
    "            derivative_terms_w = derivative_terms_w + (est - line[-1]) * line[0:-1]\n",
    "            derivative_term_b = derivative_term_b + (est - line[-1])\n",
    "        \n",
    "        derivative_terms_w = (1 / num_terms) * derivative_terms_w\n",
    "        derivative_term_b = (1 / num_terms) * derivative_term_b\n",
    "\n",
    "        temp_w = w - alpha * derivative_terms_w\n",
    "        temp_b = b - alpha * derivative_term_b\n",
    "\n",
    "        w = temp_w\n",
    "        b = temp_b\n",
    "\n",
    "    return (w, b)\n",
    "\n",
    "def root_mean_squared_error(data, w, b):\n",
    "    sum = 0\n",
    "    \n",
    "    for line in data:\n",
    "        y_hat = estimate(line[0:-1], w, b)\n",
    "        error = y_hat - line[-1]\n",
    "        squared_error = error * error\n",
    "\n",
    "        sum = sum + squared_error\n",
    "    \n",
    "    cost = sum * (1 / (data[..., 0].size))\n",
    "    cost = np.sqrt(cost)\n",
    "    return cost"
   ]
  },
  {
   "cell_type": "code",
   "execution_count": 127,
   "metadata": {},
   "outputs": [
    {
     "name": "stdout",
     "output_type": "stream",
     "text": [
      "\n",
      "\n",
      "w parameter values: \n",
      "[ 227685.29375138  523364.14605992  700169.22572192   -1916.31045547\n",
      "  257712.38307458  367768.72311961  392732.83143734  117325.95983674\n",
      "  811371.34136231  391375.88731171 -269103.71833865]\n",
      "\n",
      "\n",
      "b parameter value: \n",
      "95195.96899821016\n"
     ]
    }
   ],
   "source": [
    "(w, b) = gradient_descent(training_data, start_w, start_b, 0.01, 10000)\n",
    "print(\"\\n\")\n",
    "\n",
    "print(\"w parameter values: \")\n",
    "print(w)\n",
    "print(\"\\n\")\n",
    "\n",
    "print(\"b parameter value: \")\n",
    "print(b)"
   ]
  },
  {
   "cell_type": "code",
   "execution_count": 128,
   "metadata": {},
   "outputs": [
    {
     "name": "stdout",
     "output_type": "stream",
     "text": [
      "Cost with Test Data: 670986.357716846\n"
     ]
    }
   ],
   "source": [
    "error_test_data = root_mean_squared_error(test_data, w, b)\n",
    "print(\"Cost with Test Data: \" + str(error_test_data))"
   ]
  },
  {
   "cell_type": "code",
   "execution_count": 129,
   "metadata": {},
   "outputs": [
    {
     "data": {
      "text/plain": [
       "60702575379.395706"
      ]
     },
     "execution_count": 129,
     "metadata": {},
     "output_type": "execute_result"
    }
   ],
   "source": [
    "from sklearn.metrics import mean_squared_error\n",
    "\n",
    "temp = np.array([])\n",
    "\n",
    "for sample in training_data:\n",
    "    temp = np.append(temp, np.dot(sample[0:-1], w) + b)\n",
    "\n",
    "linear_rmse = mean_squared_error(training_data[:, -1], temp, squared = False)\n",
    "\n",
    "linear_rmse"
   ]
  },
  {
   "cell_type": "markdown",
   "metadata": {},
   "source": [
    "## Testing Sample Data"
   ]
  },
  {
   "cell_type": "code",
   "execution_count": 130,
   "metadata": {},
   "outputs": [],
   "source": [
    "# sample_data = [44, 15]\n",
    "# print(sample_data)\n",
    "\n",
    "# sample_data_normalized = (sample_data - column_minimums) / column_ranges\n",
    "# print(sample_data_normalized)\n",
    "\n",
    "# print(estimate(sample_data_normalized, w, b))"
   ]
  },
  {
   "cell_type": "code",
   "execution_count": 131,
   "metadata": {},
   "outputs": [
    {
     "name": "stdout",
     "output_type": "stream",
     "text": [
      "[[0.33333333 0.1875     0.07365224 ... 0.10730088 0.         0.48245614]\n",
      " [0.55555556 0.3125     0.24905087 ... 0.33185841 0.05809129 0.18421053]\n",
      " [0.33333333 0.25       0.11845103 ... 0.17256637 0.         0.57894737]\n",
      " ...\n",
      " [0.44444444 0.34375    0.14198937 ... 0.20685841 0.         0.66666667]\n",
      " [0.44444444 0.3125     0.23538345 ... 0.34292035 0.         0.83333333]\n",
      " [0.33333333 0.3125     0.22779043 ... 0.3130531  0.03526971 0.44736842]]\n"
     ]
    },
    {
     "data": {
      "text/html": [
       "<style>#sk-container-id-8 {color: black;background-color: white;}#sk-container-id-8 pre{padding: 0;}#sk-container-id-8 div.sk-toggleable {background-color: white;}#sk-container-id-8 label.sk-toggleable__label {cursor: pointer;display: block;width: 100%;margin-bottom: 0;padding: 0.3em;box-sizing: border-box;text-align: center;}#sk-container-id-8 label.sk-toggleable__label-arrow:before {content: \"▸\";float: left;margin-right: 0.25em;color: #696969;}#sk-container-id-8 label.sk-toggleable__label-arrow:hover:before {color: black;}#sk-container-id-8 div.sk-estimator:hover label.sk-toggleable__label-arrow:before {color: black;}#sk-container-id-8 div.sk-toggleable__content {max-height: 0;max-width: 0;overflow: hidden;text-align: left;background-color: #f0f8ff;}#sk-container-id-8 div.sk-toggleable__content pre {margin: 0.2em;color: black;border-radius: 0.25em;background-color: #f0f8ff;}#sk-container-id-8 input.sk-toggleable__control:checked~div.sk-toggleable__content {max-height: 200px;max-width: 100%;overflow: auto;}#sk-container-id-8 input.sk-toggleable__control:checked~label.sk-toggleable__label-arrow:before {content: \"▾\";}#sk-container-id-8 div.sk-estimator input.sk-toggleable__control:checked~label.sk-toggleable__label {background-color: #d4ebff;}#sk-container-id-8 div.sk-label input.sk-toggleable__control:checked~label.sk-toggleable__label {background-color: #d4ebff;}#sk-container-id-8 input.sk-hidden--visually {border: 0;clip: rect(1px 1px 1px 1px);clip: rect(1px, 1px, 1px, 1px);height: 1px;margin: -1px;overflow: hidden;padding: 0;position: absolute;width: 1px;}#sk-container-id-8 div.sk-estimator {font-family: monospace;background-color: #f0f8ff;border: 1px dotted black;border-radius: 0.25em;box-sizing: border-box;margin-bottom: 0.5em;}#sk-container-id-8 div.sk-estimator:hover {background-color: #d4ebff;}#sk-container-id-8 div.sk-parallel-item::after {content: \"\";width: 100%;border-bottom: 1px solid gray;flex-grow: 1;}#sk-container-id-8 div.sk-label:hover label.sk-toggleable__label {background-color: #d4ebff;}#sk-container-id-8 div.sk-serial::before {content: \"\";position: absolute;border-left: 1px solid gray;box-sizing: border-box;top: 0;bottom: 0;left: 50%;z-index: 0;}#sk-container-id-8 div.sk-serial {display: flex;flex-direction: column;align-items: center;background-color: white;padding-right: 0.2em;padding-left: 0.2em;position: relative;}#sk-container-id-8 div.sk-item {position: relative;z-index: 1;}#sk-container-id-8 div.sk-parallel {display: flex;align-items: stretch;justify-content: center;background-color: white;position: relative;}#sk-container-id-8 div.sk-item::before, #sk-container-id-8 div.sk-parallel-item::before {content: \"\";position: absolute;border-left: 1px solid gray;box-sizing: border-box;top: 0;bottom: 0;left: 50%;z-index: -1;}#sk-container-id-8 div.sk-parallel-item {display: flex;flex-direction: column;z-index: 1;position: relative;background-color: white;}#sk-container-id-8 div.sk-parallel-item:first-child::after {align-self: flex-end;width: 50%;}#sk-container-id-8 div.sk-parallel-item:last-child::after {align-self: flex-start;width: 50%;}#sk-container-id-8 div.sk-parallel-item:only-child::after {width: 0;}#sk-container-id-8 div.sk-dashed-wrapped {border: 1px dashed gray;margin: 0 0.4em 0.5em 0.4em;box-sizing: border-box;padding-bottom: 0.4em;background-color: white;}#sk-container-id-8 div.sk-label label {font-family: monospace;font-weight: bold;display: inline-block;line-height: 1.2em;}#sk-container-id-8 div.sk-label-container {text-align: center;}#sk-container-id-8 div.sk-container {/* jupyter's `normalize.less` sets `[hidden] { display: none; }` but bootstrap.min.css set `[hidden] { display: none !important; }` so we also need the `!important` here to be able to override the default hidden behavior on the sphinx rendered scikit-learn.org. See: https://github.com/scikit-learn/scikit-learn/issues/21755 */display: inline-block !important;position: relative;}#sk-container-id-8 div.sk-text-repr-fallback {display: none;}</style><div id=\"sk-container-id-8\" class=\"sk-top-container\"><div class=\"sk-text-repr-fallback\"><pre>LinearRegression()</pre><b>In a Jupyter environment, please rerun this cell to show the HTML representation or trust the notebook. <br />On GitHub, the HTML representation is unable to render, please try loading this page with nbviewer.org.</b></div><div class=\"sk-container\" hidden><div class=\"sk-item\"><div class=\"sk-estimator sk-toggleable\"><input class=\"sk-toggleable__control sk-hidden--visually\" id=\"sk-estimator-id-11\" type=\"checkbox\" checked><label for=\"sk-estimator-id-11\" class=\"sk-toggleable__label sk-toggleable__label-arrow\">LinearRegression</label><div class=\"sk-toggleable__content\"><pre>LinearRegression()</pre></div></div></div></div></div>"
      ],
      "text/plain": [
       "LinearRegression()"
      ]
     },
     "execution_count": 131,
     "metadata": {},
     "output_type": "execute_result"
    }
   ],
   "source": [
    "from sklearn.linear_model import LinearRegression\n",
    "from sklearn.pipeline import make_pipeline\n",
    "\n",
    "print(training_data[:, 0:-1])\n",
    "\n",
    "linear_regression = LinearRegression()\n",
    "linear_regression.fit(training_data[:, 0:-1], training_data[:, -1])"
   ]
  },
  {
   "cell_type": "code",
   "execution_count": 132,
   "metadata": {},
   "outputs": [
    {
     "name": "stdout",
     "output_type": "stream",
     "text": [
      "[-454795.19200139  382492.24854044 1355792.15153696 -812494.3516344\n",
      "  137268.32098274  747320.28016367  187402.67311211  128578.96901819\n",
      " 1642167.119187    624604.12412681 -323751.54848023]\n",
      "228544.82521240273\n"
     ]
    }
   ],
   "source": [
    "w = linear_regression.coef_\n",
    "b = linear_regression.intercept_\n",
    "\n",
    "print(w)\n",
    "print(b)"
   ]
  },
  {
   "cell_type": "code",
   "execution_count": 133,
   "metadata": {},
   "outputs": [],
   "source": [
    "housing_predictions = linear_regression.predict(training_data[:, 0:-1])"
   ]
  },
  {
   "cell_type": "code",
   "execution_count": 134,
   "metadata": {},
   "outputs": [
    {
     "data": {
      "text/plain": [
       "array([ 354769.04042907, 1319206.15307688,  516987.65524318,\n",
       "        508277.07754848,  424246.68672525])"
      ]
     },
     "execution_count": 134,
     "metadata": {},
     "output_type": "execute_result"
    }
   ],
   "source": [
    "housing_predictions[0:5]"
   ]
  },
  {
   "cell_type": "code",
   "execution_count": 135,
   "metadata": {},
   "outputs": [
    {
     "data": {
      "text/plain": [
       "array([ 313000., 2384000.,  342000.,  420000.,  550000.])"
      ]
     },
     "execution_count": 135,
     "metadata": {},
     "output_type": "execute_result"
    }
   ],
   "source": [
    "training_data[0:5, -1]"
   ]
  },
  {
   "cell_type": "code",
   "execution_count": 136,
   "metadata": {},
   "outputs": [
    {
     "data": {
      "text/plain": [
       "52794904162.41412"
      ]
     },
     "execution_count": 136,
     "metadata": {},
     "output_type": "execute_result"
    }
   ],
   "source": [
    "from sklearn.metrics import mean_squared_error\n",
    "\n",
    "linear_rmse = mean_squared_error(training_data[:, -1], housing_predictions)\n",
    "\n",
    "linear_rmse"
   ]
  },
  {
   "cell_type": "code",
   "execution_count": 137,
   "metadata": {},
   "outputs": [
    {
     "name": "stdout",
     "output_type": "stream",
     "text": [
      "Cost with Test Data: 669341.0409014781\n"
     ]
    }
   ],
   "source": [
    "error_test_data = root_mean_squared_error(test_data, w, b)\n",
    "print(\"Cost with Test Data: \" + str(error_test_data))"
   ]
  }
 ],
 "metadata": {
  "kernelspec": {
   "display_name": "Python 3",
   "language": "python",
   "name": "python3"
  },
  "language_info": {
   "codemirror_mode": {
    "name": "ipython",
    "version": 3
   },
   "file_extension": ".py",
   "mimetype": "text/x-python",
   "name": "python",
   "nbconvert_exporter": "python",
   "pygments_lexer": "ipython3",
   "version": "3.10.6"
  }
 },
 "nbformat": 4,
 "nbformat_minor": 2
}
